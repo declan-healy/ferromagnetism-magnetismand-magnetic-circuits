{
  "nbformat": 4,
  "nbformat_minor": 0,
  "metadata": {
    "colab": {
      "provenance": [],
      "collapsed_sections": [],
      "authorship_tag": "ABX9TyM7O86xR75VVZZAIcn/xIvD",
      "include_colab_link": true
    },
    "kernelspec": {
      "name": "python3",
      "display_name": "Python 3"
    },
    "language_info": {
      "name": "python"
    }
  },
  "cells": [
    {
      "cell_type": "markdown",
      "metadata": {
        "id": "view-in-github",
        "colab_type": "text"
      },
      "source": [
        "<a href=\"https://colab.research.google.com/github/declan-healy/ferromagnetism-magnetismand-magnetic-circuits/blob/main/Experiment_E4_Ferromagnetism%2C_magnetism_and_magnetic_circuits.ipynb\" target=\"_parent\"><img src=\"https://colab.research.google.com/assets/colab-badge.svg\" alt=\"Open In Colab\"/></a>"
      ]
    },
    {
      "cell_type": "code",
      "execution_count": null,
      "metadata": {
        "colab": {
          "base_uri": "https://localhost:8080/"
        },
        "id": "6mC9pKzDdf8V",
        "outputId": "314f6d01-c153-4346-aaad-8d6c98be343a"
      },
      "outputs": [
        {
          "output_type": "stream",
          "name": "stdout",
          "text": [
            "Cloning into 'ferromagnetism-magnetismand-magnetic-circuits'...\n",
            "remote: Enumerating objects: 18, done.\u001b[K\n",
            "remote: Counting objects: 100% (18/18), done.\u001b[K\n",
            "remote: Compressing objects: 100% (17/17), done.\u001b[K\n",
            "remote: Total 18 (delta 1), reused 0 (delta 0), pack-reused 0\u001b[K\n",
            "Unpacking objects: 100% (18/18), done.\n",
            "/content/ferromagnetism-magnetismand-magnetic-circuits\n",
            "From https://github.com/declan-healy/ferromagnetism-magnetismand-magnetic-circuits\n",
            " * branch            HEAD       -> FETCH_HEAD\n",
            "Already up to date.\n"
          ]
        }
      ],
      "source": [
        "!git clone \"https://github.com/declan-healy/ferromagnetism-magnetismand-magnetic-circuits.git\"\n",
        "%cd /content/ferromagnetism-magnetismand-magnetic-circuits/\n",
        "!git pull \"https://github.com/declan-healy/ferromagnetism-magnetismand-magnetic-circuits.git\""
      ]
    },
    {
      "cell_type": "code",
      "source": [
        "import pandas as pd\n",
        "import numpy as np\n",
        "import matplotlib.pyplot as plt\n",
        "import sympy as sym\n",
        "import scipy.integrate as integrate"
      ],
      "metadata": {
        "id": "eLHEFsRveTff"
      },
      "execution_count": null,
      "outputs": []
    },
    {
      "cell_type": "code",
      "source": [
        "df = pd.read_csv(\"First run.txt\",  encoding = \"ISO-8859-1\", delimiter = \"\\t\", skiprows = 4)\n",
        "df"
      ],
      "metadata": {
        "colab": {
          "base_uri": "https://localhost:8080/",
          "height": 424
        },
        "id": "hIa7qc89eyBw",
        "outputId": "2a3c16aa-522f-4f79-c1c4-25999a1643de"
      },
      "execution_count": null,
      "outputs": [
        {
          "output_type": "execute_result",
          "data": {
            "text/plain": [
              "      DEF=\"Time\" t / s  Voltage U_1 / V  Current I_1 / A  Voltage U_B2 / V  \\\n",
              "0                 0.00            0.000          -0.0005           -0.0020   \n",
              "1                 0.01            0.005           0.0000            0.0065   \n",
              "2                 0.02            0.015           0.0005            0.0120   \n",
              "3                 0.03            0.020           0.0015            0.0125   \n",
              "4                 0.04            0.030           0.0030            0.0220   \n",
              "...                ...              ...              ...               ...   \n",
              "1246             12.46            1.965           1.0200            0.0425   \n",
              "1247             12.47            1.975           1.0200            0.0425   \n",
              "1248             12.48            1.980           1.0200            0.0415   \n",
              "1249             12.49            1.990           1.0200            0.0380   \n",
              "1250             12.50            2.000           1.0200            0.0445   \n",
              "\n",
              "      Magnetic Flux &F / Vs Frequency f / Hz  Unnamed: 6  \n",
              "0                  0.000000              NAN         NaN  \n",
              "1                  0.000023              NAN         NaN  \n",
              "2                  0.000115              NAN         NaN  \n",
              "3                  0.000237              NAN         NaN  \n",
              "4                  0.000410              NAN         NaN  \n",
              "...                     ...              ...         ...  \n",
              "1246               0.493708              NAN         NaN  \n",
              "1247               0.494132              NAN         NaN  \n",
              "1248               0.494553              NAN         NaN  \n",
              "1249               0.494950              NAN         NaN  \n",
              "1250               0.495362              NAN         NaN  \n",
              "\n",
              "[1251 rows x 7 columns]"
            ],
            "text/html": [
              "\n",
              "  <div id=\"df-d236a5a9-b475-45d6-98ad-560c8edd4012\">\n",
              "    <div class=\"colab-df-container\">\n",
              "      <div>\n",
              "<style scoped>\n",
              "    .dataframe tbody tr th:only-of-type {\n",
              "        vertical-align: middle;\n",
              "    }\n",
              "\n",
              "    .dataframe tbody tr th {\n",
              "        vertical-align: top;\n",
              "    }\n",
              "\n",
              "    .dataframe thead th {\n",
              "        text-align: right;\n",
              "    }\n",
              "</style>\n",
              "<table border=\"1\" class=\"dataframe\">\n",
              "  <thead>\n",
              "    <tr style=\"text-align: right;\">\n",
              "      <th></th>\n",
              "      <th>DEF=\"Time\" t / s</th>\n",
              "      <th>Voltage U_1 / V</th>\n",
              "      <th>Current I_1 / A</th>\n",
              "      <th>Voltage U_B2 / V</th>\n",
              "      <th>Magnetic Flux &amp;F / Vs</th>\n",
              "      <th>Frequency f / Hz</th>\n",
              "      <th>Unnamed: 6</th>\n",
              "    </tr>\n",
              "  </thead>\n",
              "  <tbody>\n",
              "    <tr>\n",
              "      <th>0</th>\n",
              "      <td>0.00</td>\n",
              "      <td>0.000</td>\n",
              "      <td>-0.0005</td>\n",
              "      <td>-0.0020</td>\n",
              "      <td>0.000000</td>\n",
              "      <td>NAN</td>\n",
              "      <td>NaN</td>\n",
              "    </tr>\n",
              "    <tr>\n",
              "      <th>1</th>\n",
              "      <td>0.01</td>\n",
              "      <td>0.005</td>\n",
              "      <td>0.0000</td>\n",
              "      <td>0.0065</td>\n",
              "      <td>0.000023</td>\n",
              "      <td>NAN</td>\n",
              "      <td>NaN</td>\n",
              "    </tr>\n",
              "    <tr>\n",
              "      <th>2</th>\n",
              "      <td>0.02</td>\n",
              "      <td>0.015</td>\n",
              "      <td>0.0005</td>\n",
              "      <td>0.0120</td>\n",
              "      <td>0.000115</td>\n",
              "      <td>NAN</td>\n",
              "      <td>NaN</td>\n",
              "    </tr>\n",
              "    <tr>\n",
              "      <th>3</th>\n",
              "      <td>0.03</td>\n",
              "      <td>0.020</td>\n",
              "      <td>0.0015</td>\n",
              "      <td>0.0125</td>\n",
              "      <td>0.000237</td>\n",
              "      <td>NAN</td>\n",
              "      <td>NaN</td>\n",
              "    </tr>\n",
              "    <tr>\n",
              "      <th>4</th>\n",
              "      <td>0.04</td>\n",
              "      <td>0.030</td>\n",
              "      <td>0.0030</td>\n",
              "      <td>0.0220</td>\n",
              "      <td>0.000410</td>\n",
              "      <td>NAN</td>\n",
              "      <td>NaN</td>\n",
              "    </tr>\n",
              "    <tr>\n",
              "      <th>...</th>\n",
              "      <td>...</td>\n",
              "      <td>...</td>\n",
              "      <td>...</td>\n",
              "      <td>...</td>\n",
              "      <td>...</td>\n",
              "      <td>...</td>\n",
              "      <td>...</td>\n",
              "    </tr>\n",
              "    <tr>\n",
              "      <th>1246</th>\n",
              "      <td>12.46</td>\n",
              "      <td>1.965</td>\n",
              "      <td>1.0200</td>\n",
              "      <td>0.0425</td>\n",
              "      <td>0.493708</td>\n",
              "      <td>NAN</td>\n",
              "      <td>NaN</td>\n",
              "    </tr>\n",
              "    <tr>\n",
              "      <th>1247</th>\n",
              "      <td>12.47</td>\n",
              "      <td>1.975</td>\n",
              "      <td>1.0200</td>\n",
              "      <td>0.0425</td>\n",
              "      <td>0.494132</td>\n",
              "      <td>NAN</td>\n",
              "      <td>NaN</td>\n",
              "    </tr>\n",
              "    <tr>\n",
              "      <th>1248</th>\n",
              "      <td>12.48</td>\n",
              "      <td>1.980</td>\n",
              "      <td>1.0200</td>\n",
              "      <td>0.0415</td>\n",
              "      <td>0.494553</td>\n",
              "      <td>NAN</td>\n",
              "      <td>NaN</td>\n",
              "    </tr>\n",
              "    <tr>\n",
              "      <th>1249</th>\n",
              "      <td>12.49</td>\n",
              "      <td>1.990</td>\n",
              "      <td>1.0200</td>\n",
              "      <td>0.0380</td>\n",
              "      <td>0.494950</td>\n",
              "      <td>NAN</td>\n",
              "      <td>NaN</td>\n",
              "    </tr>\n",
              "    <tr>\n",
              "      <th>1250</th>\n",
              "      <td>12.50</td>\n",
              "      <td>2.000</td>\n",
              "      <td>1.0200</td>\n",
              "      <td>0.0445</td>\n",
              "      <td>0.495362</td>\n",
              "      <td>NAN</td>\n",
              "      <td>NaN</td>\n",
              "    </tr>\n",
              "  </tbody>\n",
              "</table>\n",
              "<p>1251 rows × 7 columns</p>\n",
              "</div>\n",
              "      <button class=\"colab-df-convert\" onclick=\"convertToInteractive('df-d236a5a9-b475-45d6-98ad-560c8edd4012')\"\n",
              "              title=\"Convert this dataframe to an interactive table.\"\n",
              "              style=\"display:none;\">\n",
              "        \n",
              "  <svg xmlns=\"http://www.w3.org/2000/svg\" height=\"24px\"viewBox=\"0 0 24 24\"\n",
              "       width=\"24px\">\n",
              "    <path d=\"M0 0h24v24H0V0z\" fill=\"none\"/>\n",
              "    <path d=\"M18.56 5.44l.94 2.06.94-2.06 2.06-.94-2.06-.94-.94-2.06-.94 2.06-2.06.94zm-11 1L8.5 8.5l.94-2.06 2.06-.94-2.06-.94L8.5 2.5l-.94 2.06-2.06.94zm10 10l.94 2.06.94-2.06 2.06-.94-2.06-.94-.94-2.06-.94 2.06-2.06.94z\"/><path d=\"M17.41 7.96l-1.37-1.37c-.4-.4-.92-.59-1.43-.59-.52 0-1.04.2-1.43.59L10.3 9.45l-7.72 7.72c-.78.78-.78 2.05 0 2.83L4 21.41c.39.39.9.59 1.41.59.51 0 1.02-.2 1.41-.59l7.78-7.78 2.81-2.81c.8-.78.8-2.07 0-2.86zM5.41 20L4 18.59l7.72-7.72 1.47 1.35L5.41 20z\"/>\n",
              "  </svg>\n",
              "      </button>\n",
              "      \n",
              "  <style>\n",
              "    .colab-df-container {\n",
              "      display:flex;\n",
              "      flex-wrap:wrap;\n",
              "      gap: 12px;\n",
              "    }\n",
              "\n",
              "    .colab-df-convert {\n",
              "      background-color: #E8F0FE;\n",
              "      border: none;\n",
              "      border-radius: 50%;\n",
              "      cursor: pointer;\n",
              "      display: none;\n",
              "      fill: #1967D2;\n",
              "      height: 32px;\n",
              "      padding: 0 0 0 0;\n",
              "      width: 32px;\n",
              "    }\n",
              "\n",
              "    .colab-df-convert:hover {\n",
              "      background-color: #E2EBFA;\n",
              "      box-shadow: 0px 1px 2px rgba(60, 64, 67, 0.3), 0px 1px 3px 1px rgba(60, 64, 67, 0.15);\n",
              "      fill: #174EA6;\n",
              "    }\n",
              "\n",
              "    [theme=dark] .colab-df-convert {\n",
              "      background-color: #3B4455;\n",
              "      fill: #D2E3FC;\n",
              "    }\n",
              "\n",
              "    [theme=dark] .colab-df-convert:hover {\n",
              "      background-color: #434B5C;\n",
              "      box-shadow: 0px 1px 3px 1px rgba(0, 0, 0, 0.15);\n",
              "      filter: drop-shadow(0px 1px 2px rgba(0, 0, 0, 0.3));\n",
              "      fill: #FFFFFF;\n",
              "    }\n",
              "  </style>\n",
              "\n",
              "      <script>\n",
              "        const buttonEl =\n",
              "          document.querySelector('#df-d236a5a9-b475-45d6-98ad-560c8edd4012 button.colab-df-convert');\n",
              "        buttonEl.style.display =\n",
              "          google.colab.kernel.accessAllowed ? 'block' : 'none';\n",
              "\n",
              "        async function convertToInteractive(key) {\n",
              "          const element = document.querySelector('#df-d236a5a9-b475-45d6-98ad-560c8edd4012');\n",
              "          const dataTable =\n",
              "            await google.colab.kernel.invokeFunction('convertToInteractive',\n",
              "                                                     [key], {});\n",
              "          if (!dataTable) return;\n",
              "\n",
              "          const docLinkHtml = 'Like what you see? Visit the ' +\n",
              "            '<a target=\"_blank\" href=https://colab.research.google.com/notebooks/data_table.ipynb>data table notebook</a>'\n",
              "            + ' to learn more about interactive tables.';\n",
              "          element.innerHTML = '';\n",
              "          dataTable['output_type'] = 'display_data';\n",
              "          await google.colab.output.renderOutput(dataTable, element);\n",
              "          const docLink = document.createElement('div');\n",
              "          docLink.innerHTML = docLinkHtml;\n",
              "          element.appendChild(docLink);\n",
              "        }\n",
              "      </script>\n",
              "    </div>\n",
              "  </div>\n",
              "  "
            ]
          },
          "metadata": {},
          "execution_count": 3
        }
      ]
    },
    {
      "cell_type": "code",
      "source": [
        "x = df.iloc[:,2]\n",
        "y = df.iloc[:,4]"
      ],
      "metadata": {
        "id": "cw80XJ00fTaJ"
      },
      "execution_count": null,
      "outputs": []
    },
    {
      "cell_type": "code",
      "source": [
        "plt.plot(x,y)\n",
        "plt.xlabel('Current /A')\n",
        "plt.ylabel('Magnetic Flux /Vs')\n",
        "plt.grid(alpha=0.3)"
      ],
      "metadata": {
        "colab": {
          "base_uri": "https://localhost:8080/",
          "height": 279
        },
        "id": "_wwJToLhoCZY",
        "outputId": "32f8f4da-8797-45cd-8397-ad2d03eefb1a"
      },
      "execution_count": null,
      "outputs": [
        {
          "output_type": "display_data",
          "data": {
            "text/plain": [
              "<Figure size 432x288 with 1 Axes>"
            ],
            "image/png": "[encoded data removed]"
          },
          "metadata": {
            "needs_background": "light"
          }
        }
      ]
    },
    {
      "cell_type": "code",
      "source": [
        "print(integrate.trapz(y[y>0]))\n",
        "print(integrate.trapz(y[y<0]))\n",
        "print(integrate.trapz(y[y>0])-integrate.trapz(y[y<0]))\n",
        "#print(integrate.trapz(y))\n",
        "#print(x.idxmax())\n",
        "#print(y.idxmax())\n",
        "#print(x.iloc[241])\n",
        "y1 = y.iloc[x.idxmax():len(y)-1]\n",
        "x1 = x.iloc[x.idxmax():len(y)-1]\n",
        "#plt.plot(x1,y1)\n",
        "print(integrate.trapz(y1[y1>0])-integrate.trapz(y1[y1<0]))\n",
        "y2 = y1[0:y1.idxmin()]\n",
        "x2 = x1.iloc[0:y1.idxmin()]\n",
        "#plt.plot(x2,y2)\n",
        "\n",
        "dat = []\n",
        "for i in range(1,len(x1)):\n",
        "  dat.append(x1.iloc[i]-x1.iloc[i-1])\n",
        "\n",
        "print(dat)\n",
        "plt.plot(range(1,len(x1)), dat)\n"
      ],
      "metadata": {
        "id": "VGPCvgEypQLN",
        "colab": {
          "base_uri": "https://localhost:8080/",
          "height": 389
        },
        "outputId": "5df7c433-0113-417f-cd2d-2923d7ced564"
      },
      "execution_count": null,
      "outputs": [
        {
          "output_type": "stream",
          "name": "stdout",
          "text": [
            "258.7390875\n",
            "-191.232355\n",
            "449.97144249999997\n",
            "387.17312875000005\n",
            "[0.0, 0.0, 0.0, 0.0, 0.0, 0.0, 0.0, 0.0, 0.0, 0.0, 0.0, 0.0, 0.0, 0.0, 0.0, 0.0, 0.0, 0.0, 0.0, 0.0, 0.0, 0.0, 0.0, 0.0, 0.0, 0.0, 0.0, 0.0, 0.0, 0.0, 0.0, 0.0, -0.0020000000000000018, -0.0035000000000000586, -0.0044999999999999485, -0.0040000000000000036, -0.0040000000000000036, -0.0040000000000000036, -0.0040000000000000036, -0.0040000000000000036, -0.0040000000000000036, -0.0040000000000000036, -0.0044999999999999485, -0.0035000000000000586, -0.0044999999999999485, -0.0040000000000000036, -0.0040000000000000036, -0.0040000000000000036, -0.0040000000000000036, -0.0040000000000000036, -0.0045000000000000595, -0.0040000000000000036, -0.0039999999999998925, -0.0040000000000000036, -0.0045000000000000595, -0.0040000000000000036, -0.0044999999999999485, -0.0040000000000000036, -0.0045000000000000595, -0.0034999999999999476, -0.0040000000000000036, -0.0045000000000000595, -0.0040000000000000036, -0.0040000000000000036, -0.0044999999999999485, -0.0040000000000000036, -0.0045000000000000595, -0.0039999999999998925, -0.0045000000000000595, -0.0040000000000000036, -0.0044999999999999485, -0.0045000000000000595, -0.0044999999999999485, -0.0040000000000000036, -0.0045000000000000595, -0.0040000000000000036, -0.0044999999999999485, -0.0040000000000000036, -0.0045000000000000595, -0.0044999999999999485, -0.0045000000000000595, -0.0040000000000000036, -0.0044999999999999485, -0.0044999999999999485, -0.0040000000000000036, -0.0040000000000000036, -0.0050000000000000044, -0.0040000000000000036, -0.0045000000000000595, -0.0040000000000000036, -0.0040000000000000036, -0.0044999999999999485, -0.0045000000000000595, -0.0044999999999999485, -0.0035000000000000586, -0.0050000000000000044, -0.004999999999999893, -0.0035000000000000586, -0.0050000000000000044, -0.0040000000000000036, -0.0044999999999999485, -0.0040000000000000036, -0.0040000000000000036, -0.0045000000000000595, -0.0040000000000000036, -0.0044999999999999485, -0.0040000000000000036, -0.0040000000000000036, -0.0045000000000000595, -0.0040000000000000036, -0.0044999999999999485, -0.0044999999999999485, -0.0040000000000000036, -0.0045000000000000595, -0.0040000000000000036, -0.0044999999999999485, -0.0040000000000000036, -0.0045000000000000595, -0.0040000000000000036, -0.0044999999999999485, -0.0040000000000000036, -0.0045000000000000595, -0.0040000000000000036, -0.0044999999999999485, -0.0040000000000000036, -0.0045000000000000595, -0.0044999999999999485, -0.0040000000000000036, -0.0040000000000000036, -0.0044999999999999485, -0.0040000000000000036, -0.0050000000000000044, -0.0040000000000000036, -0.0040000000000000036, -0.0045000000000000595, -0.0040000000000000036, -0.0044999999999999485, -0.0045000000000000595, -0.0040000000000000036, -0.0040000000000000036, -0.0044999999999999485, -0.0040000000000000036, -0.0044999999999999485, -0.0040000000000000036, -0.0045000000000000595, -0.0044999999999999485, -0.0040000000000000036, -0.0045000000000000595, -0.0044999999999999485, -0.0040000000000000036, -0.0045000000000000595, -0.0044999999999999485, -0.0040000000000000036, -0.0045000000000000595, -0.0044999999999999485, -0.004500000000000004, -0.004500000000000004, -0.0040000000000000036, -0.004500000000000004, -0.0040000000000000036, -0.0050000000000000044, -0.0040000000000000036, -0.0044999999999999485, -0.0040000000000000036, -0.004500000000000004, -0.004500000000000004, -0.0040000000000000036, -0.0040000000000000036, -0.004500000000000004, -0.004500000000000004, -0.004500000000000004, -0.0040000000000000036, -0.004500000000000004, -0.0040000000000000036, -0.004500000000000004, -0.0040000000000000036, -0.0044999999999999485, -0.0040000000000000036, -0.004500000000000004, -0.004500000000000004, -0.0040000000000000036, -0.004500000000000004, -0.0040000000000000036, -0.0040000000000000036, -0.004500000000000004, -0.0040000000000000036, -0.0040000000000000036, -0.0040000000000000036, -0.0040000000000000036, -0.004500000000000004, -0.0040000000000000036, -0.003999999999999948, -0.0040000000000000036, -0.0040000000000000036, -0.004500000000000004, -0.0040000000000000036, -0.0040000000000000036, -0.0040000000000000036, -0.0040000000000000036, -0.0040000000000000036, -0.0040000000000000036, -0.0040000000000000036, -0.004500000000000004, -0.003500000000000003, -0.0040000000000000036, -0.004500000000000004, -0.003500000000000003, -0.003999999999999948, -0.0040000000000000036, -0.0040000000000000036, -0.0040000000000000036, -0.0040000000000000036, -0.0040000000000000036, -0.0040000000000000036, -0.0040000000000000036, -0.0040000000000000036, -0.003500000000000003, -0.0040000000000000036, -0.004500000000000004, -0.0034999999999999754, -0.0040000000000000036, -0.003500000000000003, -0.0040000000000000036, -0.0040000000000000036, -0.003500000000000003, -0.0040000000000000036, -0.0040000000000000036, -0.0034999999999999754, -0.0040000000000000036, -0.0040000000000000036, -0.003500000000000003, -0.0040000000000000036, -0.003500000000000003, -0.003500000000000003, -0.0040000000000000036, -0.003999999999999976, -0.003500000000000003, -0.0040000000000000036, -0.003500000000000003, -0.003500000000000003, -0.0040000000000000036, -0.0030000000000000027, -0.003500000000000003, -0.0040000000000000036, -0.0034999999999999754, -0.003500000000000003, -0.0040000000000000036, -0.0030000000000000027, -0.0040000000000000036, -0.003500000000000003, -0.0034999999999999892, -0.003500000000000003, -0.003500000000000003, -0.0030000000000000027, -0.0040000000000000036, -0.0034999999999999892, -0.0030000000000000027, -0.003500000000000003, -0.003500000000000003, -0.0030000000000000027, -0.0034999999999999892, -0.003500000000000003, -0.0030000000000000027, -0.003500000000000003, -0.002999999999999989, -0.003500000000000003, -0.0030000000000000027, -0.003500000000000003, -0.0029999999999999957, -0.0030000000000000027, -0.0029999999999999957, -0.003500000000000003, -0.0030000000000000027, -0.0029999999999999957, -0.0030000000000000027, -0.0029999999999999957, -0.0030000000000000027, -0.002999999999999999, -0.0030000000000000027, -0.0034999999999999996, -0.0024999999999999988, -0.0034999999999999996, -0.0025000000000000005, -0.003000000000000001, -0.0024999999999999988, -0.003000000000000001, -0.0029999999999999996, -0.0025, -0.003, -0.003, -0.002999999999999999, -0.0025000000000000005, -0.002, -0.003000000000000001, -0.002999999999999999, -0.0024999999999999988, -0.0030000000000000027, -0.0019999999999999983, -0.0024999999999999988, -0.0025000000000000022, -0.0025000000000000022, -0.0029999999999999957, -0.0015000000000000013, -0.0030000000000000027, -0.001999999999999995, -0.0025000000000000022, -0.0030000000000000027, -0.001999999999999995, -0.0020000000000000018, -0.0025000000000000022, -0.0025000000000000022, -0.001999999999999995, -0.0030000000000000027, -0.0015000000000000013, -0.0025000000000000022, -0.0020000000000000018, -0.001999999999999988, -0.0020000000000000018, -0.0020000000000000018, -0.0025000000000000022, -0.0020000000000000018, -0.0015000000000000013, -0.0020000000000000018, -0.0020000000000000018, -0.001999999999999988, -0.0020000000000000018, -0.0015000000000000013, -0.0020000000000000018, -0.0015000000000000013, -0.0020000000000000018, -0.0020000000000000018, -0.0010000000000000009, -0.0020000000000000018, -0.0014999999999999875, -0.0020000000000000018, -0.0015000000000000013, -0.0015000000000000013, -0.0015000000000000013, -0.0015000000000000013, -0.0015000000000000013, -0.0010000000000000009, -0.0020000000000000018, -0.0015000000000000013, -0.000999999999999987, -0.0010000000000000009, -0.0020000000000000018, -0.0020000000000000018, -0.0010000000000000009, -0.0010000000000000009, -0.0015000000000000013, -0.0015000000000000013, -0.0015000000000000013, -0.0010000000000000009, -0.0020000000000000018, -0.0010000000000000009, -0.0020000000000000018, -0.0015000000000000013, -0.0015000000000000013, -0.0020000000000000018, -0.0014999999999999736, -0.0020000000000000018, -0.0010000000000000009, -0.0015000000000000013, -0.0020000000000000018, -0.0015000000000000013, -0.0015000000000000013, -0.0020000000000000018, -0.0015000000000000013, -0.0020000000000000018, -0.0020000000000000018, -0.0020000000000000018, -0.0015000000000000013, -0.0030000000000000027, -0.0015000000000000013, -0.0030000000000000027, -0.0015000000000000013, -0.001999999999999974, -0.0025000000000000022, -0.0025000000000000022, -0.0025000000000000022, -0.0025000000000000022, -0.0030000000000000027, -0.0020000000000000018, -0.003500000000000003, -0.0025000000000000022, -0.0030000000000000027, -0.0025000000000000022, -0.003999999999999976, -0.003500000000000003, -0.0030000000000000027, -0.003500000000000003, -0.003500000000000003, -0.0040000000000000036, -0.003500000000000003, -0.003500000000000003, -0.004500000000000004, -0.004999999999999977, -0.0030000000000000027, -0.004500000000000004, -0.004500000000000004, -0.0040000000000000036, -0.005500000000000005, -0.0050000000000000044, -0.0050000000000000044, -0.006000000000000005, -0.004500000000000004, -0.005499999999999949, -0.005500000000000005, -0.006000000000000005, -0.006000000000000005, -0.006500000000000006, -0.006500000000000006, -0.007000000000000006, -0.007000000000000006, -0.006500000000000006, -0.008499999999999952, -0.008000000000000007, -0.008000000000000007, -0.008500000000000008, -0.008500000000000008, -0.009500000000000008, -0.009000000000000008, -0.009999999999999953, -0.010000000000000009, -0.01050000000000001, -0.010000000000000009, -0.01150000000000001, -0.01050000000000001, -0.012499999999999956, -0.01100000000000001, -0.01150000000000001, -0.012499999999999956, -0.011500000000000066, -0.013499999999999956, -0.013000000000000012, -0.013000000000000012, -0.013499999999999956, -0.013000000000000012, -0.013500000000000068, -0.013499999999999956, -0.013500000000000068, -0.013499999999999956, -0.014000000000000012, -0.013000000000000012, -0.013000000000000012, -0.0129999999999999, -0.012500000000000067, -0.012499999999999956, -0.01200000000000001, -0.01200000000000001, -0.011499999999999955, -0.010500000000000065, -0.01100000000000001, -0.010499999999999954, -0.010000000000000009, -0.010000000000000009, -0.009000000000000008, -0.009000000000000008, -0.008499999999999952, -0.008500000000000063, -0.007499999999999951, -0.007500000000000062, -0.007499999999999951, -0.007000000000000006, -0.007000000000000006, -0.007000000000000006, -0.006000000000000005, -0.00649999999999995, -0.006500000000000061, -0.006000000000000005, -0.006000000000000005, -0.005499999999999949, -0.006000000000000005, -0.0045000000000000595, -0.00649999999999995, -0.005499999999999949, -0.0050000000000000044, -0.0050000000000000044, -0.00550000000000006, -0.005499999999999949, -0.0045000000000000595, -0.005499999999999949, -0.0050000000000000044, -0.0050000000000000044, -0.0050000000000000044, -0.0045000000000000595, -0.0050000000000000044, -0.0050000000000000044, -0.0044999999999999485, -0.004999999999999893, -0.0045000000000001705, -0.0044999999999999485, -0.004999999999999893, -0.0025000000000001688, 0.0, 0.0, 0.0, 0.0, 0.0, 0.0, 0.0, 0.0, 0.0, 0.0, 0.0, 0.0, 0.0, 0.0, 0.0, 0.0, 0.0, 0.0, 0.0, 0.0, 0.0, 0.0, 0.0, 0.0, 0.0, 0.0, 0.0, 0.0, 0.0, 0.0, 0.0, 0.0, 0.0, 0.0, 0.0, 0.0, 0.0, 0.0, 0.0030000000000001137, 0.0040000000000000036, 0.004999999999999893, 0.0035000000000000586, 0.0050000000000001155, 0.0034999999999998366, 0.0050000000000000044, 0.0045000000000000595, 0.0044999999999999485, 0.0045000000000000595, 0.0044999999999999485, 0.0040000000000000036, 0.0050000000000000044, 0.0040000000000000036, 0.0045000000000000595, 0.0044999999999999485, 0.0045000000000000595, 0.0040000000000000036, 0.0044999999999999485, 0.0035000000000000586, 0.004999999999999893, 0.0045000000000000595, 0.0044999999999999485, 0.0045000000000000595, 0.0044999999999999485, 0.0040000000000000036, 0.0045000000000000595, 0.0044999999999999485, 0.0040000000000000036, 0.0045000000000000595, 0.0040000000000000036, 0.0044999999999999485, 0.0045000000000000595, 0.0040000000000000036, 0.005499999999999949, 0.0034999999999999476, 0.0050000000000000044, 0.0040000000000000036, 0.0050000000000000044, 0.0035000000000000586, 0.0044999999999999485, 0.0040000000000000036, 0.0050000000000000044, 0.0045000000000000595, 0.0040000000000000036, 0.0044999999999999485, 0.0045000000000000595, 0.0040000000000000036, 0.0044999999999999485, 0.0044999999999999485, 0.0040000000000000036, 0.0045000000000000595, 0.0040000000000000036, 0.0044999999999999485, 0.0050000000000000044, 0.0040000000000000036, 0.0040000000000000036, 0.0050000000000000044, 0.0040000000000000036, 0.0040000000000000036, 0.0050000000000000044, 0.0040000000000000036, 0.0040000000000000036, 0.0050000000000000044, 0.0040000000000000036, 0.0044999999999999485, 0.0040000000000000036, 0.0045000000000000595, 0.0044999999999999485, 0.0045000000000000595, 0.0034999999999999476, 0.0040000000000000036, 0.0045000000000000595, 0.0044999999999999485, 0.0040000000000000036, 0.0040000000000000036, 0.0045000000000000595, 0.0044999999999999485, 0.0040000000000000036, 0.0044999999999999485, 0.0040000000000000036, 0.0045000000000000595, 0.0044999999999999485, 0.0040000000000000036, 0.0045000000000000595, 0.0040000000000000036, 0.0040000000000000036, 0.0044999999999999485, 0.0045000000000000595, 0.0040000000000000036, 0.0044999999999999485, 0.0040000000000000036, 0.0045000000000000595, 0.0039999999999998925, 0.0040000000000000036, 0.0045000000000000595, 0.0044999999999999485, 0.0040000000000000036, 0.0040000000000000036, 0.0050000000000000044, 0.0035000000000000586, 0.0050000000000000044, 0.0040000000000000036, 0.0040000000000000036, 0.0044999999999999485, 0.0040000000000000036, 0.0045000000000000595, 0.0034999999999999476, 0.0044999999999999485, 0.0040000000000000036, 0.0045000000000000595, 0.0040000000000000036, 0.0044999999999999485, 0.0045000000000000595, 0.0040000000000000036, 0.0040000000000000036, 0.0044999999999999485, 0.0040000000000000036, 0.0045000000000000595, 0.0044999999999999485, 0.0040000000000000036, 0.0045000000000000595, 0.003999999999999948, 0.004500000000000004, 0.004500000000000004, 0.0040000000000000036, 0.0040000000000000036, 0.0040000000000000036, 0.004500000000000004, 0.0044999999999999485, 0.0040000000000000036, 0.0040000000000000036, 0.004500000000000004, 0.0040000000000000036, 0.004500000000000004, 0.0040000000000000036, 0.0040000000000000036, 0.004500000000000004, 0.004500000000000004, 0.0040000000000000036, 0.0040000000000000036, 0.004500000000000004, 0.003500000000000003, 0.0050000000000000044, 0.003999999999999948, 0.0040000000000000036, 0.0040000000000000036, 0.004500000000000004, 0.0040000000000000036, 0.0040000000000000036, 0.0040000000000000036, 0.004500000000000004, 0.003500000000000003, 0.004500000000000004, 0.0040000000000000036, 0.0040000000000000036, 0.0040000000000000036, 0.004500000000000004, 0.0040000000000000036, 0.003500000000000003, 0.0044999999999999485, 0.0040000000000000036, 0.0040000000000000036, 0.0050000000000000044, 0.0030000000000000027, 0.004500000000000004, 0.0040000000000000036, 0.004500000000000004, 0.003500000000000003, 0.0040000000000000036, 0.0040000000000000036, 0.0040000000000000036, 0.0040000000000000036, 0.0040000000000000036, 0.0040000000000000036, 0.0044999999999999485, 0.003500000000000003, 0.0040000000000000036, 0.0040000000000000036, 0.003500000000000003, 0.004500000000000004, 0.0040000000000000036, 0.003500000000000003, 0.004500000000000004, 0.003500000000000003, 0.0040000000000000036, 0.0040000000000000036, 0.003999999999999976, 0.003500000000000003, 0.0040000000000000036, 0.003500000000000003, 0.0040000000000000036, 0.0040000000000000036, 0.003500000000000003, 0.0040000000000000036, 0.0034999999999999754, 0.0040000000000000036, 0.003500000000000003, 0.0040000000000000036, 0.003500000000000003, 0.0040000000000000036, 0.003500000000000003, 0.0040000000000000036, 0.0030000000000000027, 0.004499999999999976, 0.0030000000000000027, 0.0040000000000000036, 0.0040000000000000036, 0.003500000000000003, 0.0030000000000000027, 0.0040000000000000036, 0.003500000000000003, 0.0034999999999999754, 0.003500000000000003, 0.003500000000000003, 0.0040000000000000036, 0.0030000000000000027, 0.0040000000000000036, 0.0030000000000000027, 0.0034999999999999892, 0.0040000000000000036, 0.0025000000000000022, 0.0040000000000000036, 0.0034999999999999892, 0.003500000000000003, 0.003500000000000003, 0.0030000000000000027, 0.003500000000000003, 0.002999999999999989, 0.0030000000000000027, 0.003500000000000003, 0.003500000000000003, 0.0030000000000000027, 0.002999999999999989, 0.0030000000000000027, 0.003500000000000003, 0.0030000000000000027, 0.0029999999999999957, 0.003500000000000003, 0.0029999999999999957, 0.0030000000000000027, 0.0030000000000000027, 0.0029999999999999957, 0.0030000000000000027, 0.003499999999999996, 0.0020000000000000018, 0.004, 0.0025000000000000022, 0.002999999999999999, 0.002999999999999999, 0.002999999999999999, 0.003000000000000001, 0.0025000000000000005, 0.002999999999999999, 0.004, 0.0015, 0.003, 0.003, 0.0025, 0.0025000000000000005, 0.002999999999999999, 0.0025000000000000005, 0.0025000000000000005, 0.002999999999999999, 0.0024999999999999988, 0.0025000000000000022, 0.0019999999999999983, 0.002999999999999999, 0.0025000000000000022, 0.0020000000000000018, 0.0029999999999999957, 0.0020000000000000018, 0.0030000000000000027, 0.001999999999999995, 0.0025000000000000022, 0.0025000000000000022, 0.001999999999999995, 0.0030000000000000027, 0.0015000000000000013, 0.0025000000000000022, 0.001999999999999995, 0.0025000000000000022, 0.0020000000000000018, 0.0025000000000000022, 0.0015000000000000013, 0.0024999999999999883, 0.0020000000000000018, 0.0020000000000000018, 0.0020000000000000018, 0.0020000000000000018, 0.0025000000000000022, 0.0015000000000000013, 0.0020000000000000018, 0.001999999999999988, 0.0020000000000000018, 0.0015000000000000013, 0.0020000000000000018, 0.0015000000000000013, 0.0020000000000000018, 0.0015000000000000013, 0.0020000000000000018, 0.0015000000000000013, 0.001999999999999988, 0.0010000000000000009, 0.0020000000000000018, 0.0015000000000000013, 0.0015000000000000013, 0.0015000000000000013, 0.0015000000000000013, 0.0015000000000000013, 0.0010000000000000009, 0.0015000000000000013, 0.0014999999999999875, 0.0015000000000000013, 0.0010000000000000009, 0.0015000000000000013, 0.0015000000000000013, 0.0015000000000000013, 0.0015000000000000013, 0.0015000000000000013, 0.0010000000000000009, 0.0020000000000000018, 0.0010000000000000009, 0.0015000000000000013, 0.0015000000000000013, 0.0015000000000000013, 0.0015000000000000013, 0.0015000000000000013, 0.0015000000000000013, 0.0014999999999999736, 0.0020000000000000018, 0.0015000000000000013, 0.0015000000000000013, 0.0015000000000000013, 0.0020000000000000018, 0.0015000000000000013, 0.0020000000000000018, 0.0015000000000000013, 0.0020000000000000018, 0.0020000000000000018, 0.0015000000000000013, 0.0025000000000000022, 0.0020000000000000018, 0.0020000000000000018, 0.0025000000000000022, 0.001999999999999974, 0.0025000000000000022, 0.0020000000000000018, 0.0025000000000000022, 0.0025000000000000022, 0.0025000000000000022, 0.0030000000000000027, 0.0025000000000000022, 0.0030000000000000027, 0.0025000000000000022, 0.003500000000000003, 0.0030000000000000027, 0.002999999999999975, 0.003500000000000003, 0.0030000000000000027, 0.003500000000000003, 0.0040000000000000036, 0.003500000000000003, 0.0040000000000000036, 0.0040000000000000036, 0.003500000000000003, 0.004499999999999976, 0.0040000000000000036, 0.004500000000000004, 0.0040000000000000036, 0.0050000000000000044, 0.004500000000000004, 0.005500000000000005, 0.004500000000000004, 0.005500000000000005, 0.005500000000000005, 0.005499999999999949, 0.006000000000000005, 0.006000000000000005, 0.006000000000000005, 0.006500000000000006, 0.006500000000000006, 0.007500000000000007, 0.007000000000000006, 0.007500000000000007, 0.007999999999999952, 0.008000000000000007, 0.008500000000000008, 0.008500000000000008, 0.009500000000000008, 0.009500000000000008, 0.010000000000000009, 0.009999999999999953, 0.01050000000000001, 0.01050000000000001, 0.01100000000000001, 0.01200000000000001, 0.01150000000000001, 0.012499999999999956, 0.01200000000000001, 0.012999999999999956, 0.013000000000000012, 0.013000000000000012, 0.013500000000000068, 0.014000000000000012, 0.013999999999999901, 0.013500000000000068, 0.014000000000000012, 0.013499999999999956, 0.014499999999999957, 0.013500000000000068, 0.013499999999999956, 0.013500000000000068, 0.013000000000000012, 0.013499999999999956, 0.01200000000000001, 0.012499999999999956, 0.011500000000000066, 0.011499999999999955, 0.01100000000000001, 0.010499999999999954, 0.010500000000000065, 0.010000000000000009, 0.009499999999999953, 0.009500000000000064, 0.008499999999999952, 0.008499999999999952, 0.007500000000000062, 0.008000000000000007, 0.007000000000000006, 0.007499999999999951, 0.007000000000000006, 0.006500000000000061, 0.00649999999999995, 0.006000000000000005, 0.006000000000000005, 0.006000000000000005, 0.006000000000000005, 0.005499999999999949, 0.006000000000000005, 0.0050000000000000044, 0.00550000000000006, 0.0050000000000000044, 0.005499999999999949, 0.0050000000000000044, 0.0050000000000000044, 0.0050000000000000044, 0.0050000000000000044, 0.0050000000000000044, 0.0050000000000000044, 0.0050000000000000044, 0.0044999999999999485, 0.0050000000000000044, 0.0045000000000000595, 0.0050000000000000044, 0.0050000000000000044, 0.0044999999999999485, 0.0050000000000000044, 0.0045000000000000595, 0.0044999999999999485, 0.004999999999999893, 0.0045000000000001705, 0.004999999999999893, 0.0015000000000000568, 0.0, 0.0, 0.0, 0.0, 0.0, 0.0, 0.0, 0.0, 0.0, 0.0, 0.0, 0.0]\n"
          ]
        },
        {
          "output_type": "execute_result",
          "data": {
            "text/plain": [
              "[<matplotlib.lines.Line2D at 0x7f82a1ed7950>]"
            ]
          },
          "metadata": {},
          "execution_count": 6
        },
        {
          "output_type": "display_data",
          "data": {
            "text/plain": [
              "<Figure size 432x288 with 1 Axes>"
            ],
            "image/png": "[encoded data removed]"
          },
          "metadata": {
            "needs_background": "light"
          }
        }
      ]
    }
  ]
}