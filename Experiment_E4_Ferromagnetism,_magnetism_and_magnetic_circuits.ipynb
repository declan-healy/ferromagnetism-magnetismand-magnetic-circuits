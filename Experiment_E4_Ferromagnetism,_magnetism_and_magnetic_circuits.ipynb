{
  "nbformat": 4,
  "nbformat_minor": 0,
  "metadata": {
    "colab": {
      "provenance": [],
      "collapsed_sections": [],
      "authorship_tag": "ABX9TyPecjZ18IMs/IewDyn3RNRG",
      "include_colab_link": true
    },
    "kernelspec": {
      "name": "python3",
      "display_name": "Python 3"
    },
    "language_info": {
      "name": "python"
    }
  },
  "cells": [
    {
      "cell_type": "markdown",
      "metadata": {
        "id": "view-in-github",
        "colab_type": "text"
      },
      "source": [
        "<a href=\"https://colab.research.google.com/github/declan-healy/ferromagnetism-magnetismand-magnetic-circuits/blob/main/Experiment_E4_Ferromagnetism%2C_magnetism_and_magnetic_circuits.ipynb\" target=\"_parent\"><img src=\"https://colab.research.google.com/assets/colab-badge.svg\" alt=\"Open In Colab\"/></a>"
      ]
    },
    {
      "cell_type": "code",
      "execution_count": 33,
      "metadata": {
        "colab": {
          "base_uri": "https://localhost:8080/"
        },
        "id": "6mC9pKzDdf8V",
        "outputId": "ebb72f32-fa49-4c30-a8f4-8d12e10e3032"
      },
      "outputs": [
        {
          "output_type": "stream",
          "name": "stdout",
          "text": [
            "fatal: destination path 'ferromagnetism-magnetismand-magnetic-circuits' already exists and is not an empty directory.\n",
            "/content/ferromagnetism-magnetismand-magnetic-circuits\n",
            "remote: Enumerating objects: 5, done.\u001b[K\n",
            "remote: Counting objects: 100% (5/5), done.\u001b[K\n",
            "remote: Compressing objects: 100% (3/3), done.\u001b[K\n",
            "remote: Total 3 (delta 2), reused 0 (delta 0), pack-reused 0\u001b[K\n",
            "Unpacking objects: 100% (3/3), done.\n",
            "From https://github.com/declan-healy/ferromagnetism-magnetismand-magnetic-circuits\n",
            " * branch            HEAD       -> FETCH_HEAD\n",
            "Updating 84e3a55..2af90be\n",
            "Fast-forward\n",
            " week6.txt | 12 \u001b[32m++++++\u001b[m\u001b[31m------\u001b[m\n",
            " 1 file changed, 6 insertions(+), 6 deletions(-)\n"
          ]
        }
      ],
      "source": [
        "!git clone \"https://github.com/declan-healy/ferromagnetism-magnetismand-magnetic-circuits.git\"\n",
        "%cd /content/ferromagnetism-magnetismand-magnetic-circuits/\n",
        "!git pull \"https://github.com/declan-healy/ferromagnetism-magnetismand-magnetic-circuits.git\""
      ]
    },
    {
      "cell_type": "code",
      "source": [
        "! pip install -q uncertainties"
      ],
      "metadata": {
        "id": "MvBURT4H_ns1"
      },
      "execution_count": 34,
      "outputs": []
    },
    {
      "cell_type": "code",
      "source": [
        "import pandas as pd\n",
        "import numpy as np\n",
        "import matplotlib.pyplot as plt\n",
        "import sympy as sym\n",
        "import scipy.integrate as integrate\n",
        "import os\n",
        "import uncertainties as uc\n",
        "import uncertainties.umath as um "
      ],
      "metadata": {
        "id": "eLHEFsRveTff"
      },
      "execution_count": 35,
      "outputs": []
    },
    {
      "cell_type": "code",
      "source": [
        "files = os.listdir()\n",
        "n = 1\n",
        "for i in files:\n",
        "  globals()['file%s' % n] = pd.read_csv(\"First run.txt\",  encoding = \"ISO-8859-1\", delimiter = \"\\t\", skiprows = 4)\n",
        "  n = n+1"
      ],
      "metadata": {
        "id": "xmtLLD6eGZcB"
      },
      "execution_count": 36,
      "outputs": []
    },
    {
      "cell_type": "code",
      "source": [
        "print(files[0])\n",
        "foil_3_3 = file1\n",
        "print(files[1])\n",
        "foil_3_error_2 = file2\n",
        "print(files[2])\n"
      ],
      "metadata": {
        "colab": {
          "base_uri": "https://localhost:8080/"
        },
        "id": "4c21SYN4JXxE",
        "outputId": "0a9f402d-7695-4567-9ac2-737b2f8c81f0"
      },
      "execution_count": 37,
      "outputs": [
        {
          "output_type": "stream",
          "name": "stdout",
          "text": [
            "Error run.txt\n",
            "aluminium sheets 4 error run 1.txt\n",
            "ALUMMINIUM - week 2.txt\n"
          ]
        }
      ]
    },
    {
      "cell_type": "code",
      "source": [
        "df = pd.read_csv(\"First run.txt\",  encoding = \"ISO-8859-1\", delimiter = \"\\t\", skiprows = 4)\n",
        "df1 = pd.read_csv(\"week6.txt\",  encoding = \"ISO-8859-1\", delimiter = \"\\t\", skiprows = 0)"
      ],
      "metadata": {
        "id": "hIa7qc89eyBw"
      },
      "execution_count": 38,
      "outputs": []
    },
    {
      "cell_type": "code",
      "source": [
        "df1"
      ],
      "metadata": {
        "colab": {
          "base_uri": "https://localhost:8080/",
          "height": 206
        },
        "id": "ozTi9e3VG-ax",
        "outputId": "9ae1fbd3-6d83-4268-c88c-482514c5ffa9"
      },
      "execution_count": 39,
      "outputs": [
        {
          "output_type": "execute_result",
          "data": {
            "text/plain": [
              "   sheetno  thickness   run1   run2   run3  mean_unrounded  stdev_unrounded  \\\n",
              "0        0       0.00  0.344  0.347  0.343        0.344667         0.002082   \n",
              "1        1       0.63  0.338  0.335  0.340        0.337667         0.002517   \n",
              "2        2       1.26  0.323  0.320  0.324        0.322333         0.002082   \n",
              "3        3       1.89  0.308  0.310  0.318        0.312000         0.005292   \n",
              "4        4       2.52  0.300  0.295  0.294        0.296333         0.003215   \n",
              "\n",
              "     mean   stdev  \n",
              "0  0.3447  0.0021  \n",
              "1  0.3377  0.0025  \n",
              "2  0.3223  0.0021  \n",
              "3  0.3120  0.0050  \n",
              "4  0.2960  0.0030  "
            ],
            "text/html": [
              "\n",
              "  <div id=\"df-1e26ffcc-008f-4407-9120-30cee774a672\">\n",
              "    <div class=\"colab-df-container\">\n",
              "      <div>\n",
              "<style scoped>\n",
              "    .dataframe tbody tr th:only-of-type {\n",
              "        vertical-align: middle;\n",
              "    }\n",
              "\n",
              "    .dataframe tbody tr th {\n",
              "        vertical-align: top;\n",
              "    }\n",
              "\n",
              "    .dataframe thead th {\n",
              "        text-align: right;\n",
              "    }\n",
              "</style>\n",
              "<table border=\"1\" class=\"dataframe\">\n",
              "  <thead>\n",
              "    <tr style=\"text-align: right;\">\n",
              "      <th></th>\n",
              "      <th>sheetno</th>\n",
              "      <th>thickness</th>\n",
              "      <th>run1</th>\n",
              "      <th>run2</th>\n",
              "      <th>run3</th>\n",
              "      <th>mean_unrounded</th>\n",
              "      <th>stdev_unrounded</th>\n",
              "      <th>mean</th>\n",
              "      <th>stdev</th>\n",
              "    </tr>\n",
              "  </thead>\n",
              "  <tbody>\n",
              "    <tr>\n",
              "      <th>0</th>\n",
              "      <td>0</td>\n",
              "      <td>0.00</td>\n",
              "      <td>0.344</td>\n",
              "      <td>0.347</td>\n",
              "      <td>0.343</td>\n",
              "      <td>0.344667</td>\n",
              "      <td>0.002082</td>\n",
              "      <td>0.3447</td>\n",
              "      <td>0.0021</td>\n",
              "    </tr>\n",
              "    <tr>\n",
              "      <th>1</th>\n",
              "      <td>1</td>\n",
              "      <td>0.63</td>\n",
              "      <td>0.338</td>\n",
              "      <td>0.335</td>\n",
              "      <td>0.340</td>\n",
              "      <td>0.337667</td>\n",
              "      <td>0.002517</td>\n",
              "      <td>0.3377</td>\n",
              "      <td>0.0025</td>\n",
              "    </tr>\n",
              "    <tr>\n",
              "      <th>2</th>\n",
              "      <td>2</td>\n",
              "      <td>1.26</td>\n",
              "      <td>0.323</td>\n",
              "      <td>0.320</td>\n",
              "      <td>0.324</td>\n",
              "      <td>0.322333</td>\n",
              "      <td>0.002082</td>\n",
              "      <td>0.3223</td>\n",
              "      <td>0.0021</td>\n",
              "    </tr>\n",
              "    <tr>\n",
              "      <th>3</th>\n",
              "      <td>3</td>\n",
              "      <td>1.89</td>\n",
              "      <td>0.308</td>\n",
              "      <td>0.310</td>\n",
              "      <td>0.318</td>\n",
              "      <td>0.312000</td>\n",
              "      <td>0.005292</td>\n",
              "      <td>0.3120</td>\n",
              "      <td>0.0050</td>\n",
              "    </tr>\n",
              "    <tr>\n",
              "      <th>4</th>\n",
              "      <td>4</td>\n",
              "      <td>2.52</td>\n",
              "      <td>0.300</td>\n",
              "      <td>0.295</td>\n",
              "      <td>0.294</td>\n",
              "      <td>0.296333</td>\n",
              "      <td>0.003215</td>\n",
              "      <td>0.2960</td>\n",
              "      <td>0.0030</td>\n",
              "    </tr>\n",
              "  </tbody>\n",
              "</table>\n",
              "</div>\n",
              "      <button class=\"colab-df-convert\" onclick=\"convertToInteractive('df-1e26ffcc-008f-4407-9120-30cee774a672')\"\n",
              "              title=\"Convert this dataframe to an interactive table.\"\n",
              "              style=\"display:none;\">\n",
              "        \n",
              "  <svg xmlns=\"http://www.w3.org/2000/svg\" height=\"24px\"viewBox=\"0 0 24 24\"\n",
              "       width=\"24px\">\n",
              "    <path d=\"M0 0h24v24H0V0z\" fill=\"none\"/>\n",
              "    <path d=\"M18.56 5.44l.94 2.06.94-2.06 2.06-.94-2.06-.94-.94-2.06-.94 2.06-2.06.94zm-11 1L8.5 8.5l.94-2.06 2.06-.94-2.06-.94L8.5 2.5l-.94 2.06-2.06.94zm10 10l.94 2.06.94-2.06 2.06-.94-2.06-.94-.94-2.06-.94 2.06-2.06.94z\"/><path d=\"M17.41 7.96l-1.37-1.37c-.4-.4-.92-.59-1.43-.59-.52 0-1.04.2-1.43.59L10.3 9.45l-7.72 7.72c-.78.78-.78 2.05 0 2.83L4 21.41c.39.39.9.59 1.41.59.51 0 1.02-.2 1.41-.59l7.78-7.78 2.81-2.81c.8-.78.8-2.07 0-2.86zM5.41 20L4 18.59l7.72-7.72 1.47 1.35L5.41 20z\"/>\n",
              "  </svg>\n",
              "      </button>\n",
              "      \n",
              "  <style>\n",
              "    .colab-df-container {\n",
              "      display:flex;\n",
              "      flex-wrap:wrap;\n",
              "      gap: 12px;\n",
              "    }\n",
              "\n",
              "    .colab-df-convert {\n",
              "      background-color: #E8F0FE;\n",
              "      border: none;\n",
              "      border-radius: 50%;\n",
              "      cursor: pointer;\n",
              "      display: none;\n",
              "      fill: #1967D2;\n",
              "      height: 32px;\n",
              "      padding: 0 0 0 0;\n",
              "      width: 32px;\n",
              "    }\n",
              "\n",
              "    .colab-df-convert:hover {\n",
              "      background-color: #E2EBFA;\n",
              "      box-shadow: 0px 1px 2px rgba(60, 64, 67, 0.3), 0px 1px 3px 1px rgba(60, 64, 67, 0.15);\n",
              "      fill: #174EA6;\n",
              "    }\n",
              "\n",
              "    [theme=dark] .colab-df-convert {\n",
              "      background-color: #3B4455;\n",
              "      fill: #D2E3FC;\n",
              "    }\n",
              "\n",
              "    [theme=dark] .colab-df-convert:hover {\n",
              "      background-color: #434B5C;\n",
              "      box-shadow: 0px 1px 3px 1px rgba(0, 0, 0, 0.15);\n",
              "      filter: drop-shadow(0px 1px 2px rgba(0, 0, 0, 0.3));\n",
              "      fill: #FFFFFF;\n",
              "    }\n",
              "  </style>\n",
              "\n",
              "      <script>\n",
              "        const buttonEl =\n",
              "          document.querySelector('#df-1e26ffcc-008f-4407-9120-30cee774a672 button.colab-df-convert');\n",
              "        buttonEl.style.display =\n",
              "          google.colab.kernel.accessAllowed ? 'block' : 'none';\n",
              "\n",
              "        async function convertToInteractive(key) {\n",
              "          const element = document.querySelector('#df-1e26ffcc-008f-4407-9120-30cee774a672');\n",
              "          const dataTable =\n",
              "            await google.colab.kernel.invokeFunction('convertToInteractive',\n",
              "                                                     [key], {});\n",
              "          if (!dataTable) return;\n",
              "\n",
              "          const docLinkHtml = 'Like what you see? Visit the ' +\n",
              "            '<a target=\"_blank\" href=https://colab.research.google.com/notebooks/data_table.ipynb>data table notebook</a>'\n",
              "            + ' to learn more about interactive tables.';\n",
              "          element.innerHTML = '';\n",
              "          dataTable['output_type'] = 'display_data';\n",
              "          await google.colab.output.renderOutput(dataTable, element);\n",
              "          const docLink = document.createElement('div');\n",
              "          docLink.innerHTML = docLinkHtml;\n",
              "          element.appendChild(docLink);\n",
              "        }\n",
              "      </script>\n",
              "    </div>\n",
              "  </div>\n",
              "  "
            ]
          },
          "metadata": {},
          "execution_count": 39
        }
      ]
    },
    {
      "cell_type": "code",
      "source": [
        "x = df.iloc[:,2]\n",
        "y = df.iloc[:,4]"
      ],
      "metadata": {
        "id": "cw80XJ00fTaJ"
      },
      "execution_count": 42,
      "outputs": []
    },
    {
      "cell_type": "code",
      "source": [
        "plt.plot(df1['thickness'],df1['mean'])\n",
        "plt.xlabel('Thickness /mm')\n",
        "plt.ylabel('Magnetic Flux /Vs')\n",
        "plt.grid(alpha=0.3)"
      ],
      "metadata": {
        "colab": {
          "base_uri": "https://localhost:8080/",
          "height": 279
        },
        "id": "WJMuNf2d7Iz-",
        "outputId": "3d0e45a4-23b1-4202-e1eb-0300d3ace220"
      },
      "execution_count": 43,
      "outputs": [
        {
          "output_type": "display_data",
          "data": {
            "text/plain": [
              "<Figure size 432x288 with 1 Axes>"
            ],
            "image/png": "[encoded data removed]"
          },
          "metadata": {
            "needs_background": "light"
          }
        }
      ]
    },
    {
      "cell_type": "code",
      "source": [
        "plt.plot(x,y)\n",
        "plt.xlabel('Current /A')\n",
        "plt.ylabel('Magnetic Flux /Vs')\n",
        "plt.grid(alpha=0.3)"
      ],
      "metadata": {
        "id": "_wwJToLhoCZY"
      },
      "execution_count": null,
      "outputs": []
    },
    {
      "cell_type": "code",
      "source": [
        "print(integrate.trapz(y[y>0]))\n",
        "print(integrate.trapz(y[y<0]))\n",
        "print(integrate.trapz(y[y>0])-integrate.trapz(y[y<0]))\n",
        "#print(integrate.trapz(y))\n",
        "#print(x.idxmax())\n",
        "#print(y.idxmax())\n",
        "#print(x.iloc[241])\n",
        "y1 = y.iloc[x.idxmax():len(y)-1]\n",
        "x1 = x.iloc[x.idxmax():len(y)-1]\n",
        "#plt.plot(x1,y1)\n",
        "print(integrate.trapz(y1[y1>0])-integrate.trapz(y1[y1<0]))\n",
        "y2 = y1[0:y1.idxmin()]\n",
        "x2 = x1.iloc[0:y1.idxmin()]\n",
        "#plt.plot(x2,y2)\n",
        "\n",
        "dat = []\n",
        "for i in range(1,len(x1)):\n",
        "  dat.append(x1.iloc[i]-x1.iloc[i-1])\n",
        "\n",
        "print(dat)\n",
        "plt.plot(range(1,len(x1)), dat)\n"
      ],
      "metadata": {
        "id": "VGPCvgEypQLN"
      },
      "execution_count": null,
      "outputs": []
    }
  ]
}